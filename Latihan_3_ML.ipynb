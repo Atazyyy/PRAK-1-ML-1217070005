{
  "nbformat": 4,
  "nbformat_minor": 0,
  "metadata": {
    "colab": {
      "provenance": []
    },
    "kernelspec": {
      "name": "python3",
      "display_name": "Python 3"
    },
    "language_info": {
      "name": "python"
    }
  },
  "cells": [
    {
      "cell_type": "markdown",
      "source": [
        "1217070005 Agni Miftah Fauzi"
      ],
      "metadata": {
        "id": "5VcAFxaV3Msr"
      }
    },
    {
      "cell_type": "code",
      "execution_count": null,
      "metadata": {
        "colab": {
          "base_uri": "https://localhost:8080/"
        },
        "id": "m4ROoZbgSnSP",
        "outputId": "7a4db549-9163-478d-b8a0-f54475eb0a60"
      },
      "outputs": [
        {
          "output_type": "stream",
          "name": "stdout",
          "text": [
            " * Serving Flask app '__main__'\n",
            " * Debug mode: off\n"
          ]
        },
        {
          "output_type": "stream",
          "name": "stderr",
          "text": [
            "INFO:werkzeug:\u001b[31m\u001b[1mWARNING: This is a development server. Do not use it in a production deployment. Use a production WSGI server instead.\u001b[0m\n",
            " * Running on all addresses (0.0.0.0)\n",
            " * Running on http://127.0.0.1:5000\n",
            " * Running on http://172.28.0.12:5000\n",
            "INFO:werkzeug:\u001b[33mPress CTRL+C to quit\u001b[0m\n"
          ]
        }
      ],
      "source": [
        "from flask import Flask, render_template, request\n",
        "import joblib\n",
        "import pandas as pd\n",
        "import numpy as np\n",
        "\n",
        "app = Flask(__name__)\n",
        "\n",
        "# Memuat model Machine Learning\n",
        "with open(\"/content/drive/MyDrive/Bahan Latihan ML/hasil_pelatihan_model.pkl\", \"rb\") as model_file:\n",
        "    ml_model = joblib.load(model_file)\n",
        "\n",
        "@app.route(\"/\")\n",
        "def home():\n",
        "    return render_template('home.html')\n",
        "\n",
        "@app.route(\"/predict\", methods=['GET', 'POST'])\n",
        "def predict():\n",
        "    if request.method == 'POST':\n",
        "        try:\n",
        "            # Mengambil nilai input dari form\n",
        "            RnD_Spend = float(request.form['RnD_Spend'])\n",
        "            Admin_Spend = float(request.form['Admin_Spend'])\n",
        "            Market_Spend = float(request.form['Market_Spend'])\n",
        "\n",
        "            # Memproses input dan membuat prediksi\n",
        "            pred_args = np.array([RnD_Spend, Admin_Spend, Market_Spend]).reshape(1, -1)\n",
        "            model_prediction = ml_model.predict(pred_args)\n",
        "            model_prediction = round(float(model_prediction), 2)\n",
        "\n",
        "            return render_template('predict.html', prediction=model_prediction)\n",
        "        except ValueError:\n",
        "            return \"Please ensure all values are entered correctly.\"\n",
        "\n",
        "    return render_template('predict.html', prediction=None)\n",
        "\n",
        "if __name__ == \"__main__\":\n",
        "    app.run(host='0.0.0.0')"
      ]
    }
  ]
}